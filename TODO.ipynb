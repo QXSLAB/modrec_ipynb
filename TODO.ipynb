{
 "cells": [
  {
   "cell_type": "markdown",
   "metadata": {},
   "source": [
    "# 1.校准skorch版本和pytorch版本conv1d的性能\n",
    "\n",
    "\n",
    "\n",
    "# 2.使用randomsearch搜索最优的learn rate和dropout rate\n",
    "\n",
    "\n",
    "\n",
    "# use Dask to distribute grid search multiple GPUs\n",
    "https://skorch.readthedocs.io/en/latest/user/parallelism.html\n",
    "\n",
    "\n",
    "\n",
    "# 3.实现更大的卷积核\n",
    "主要应对训练数据中加性噪声过大的情况 对于同一种调制格式，星座点的分布是固定的，信号在不同星座点之间跃迁，因而具有不同的时间轨迹，所以不同调制格式的信号波形是可分的 当存在噪声的情况下，时间轨迹会在纯净信号的基础上上下抖动。在局部来看，信号可能被完全打乱了，但是从长期来看，信号依然会在纯净信号模式上形成较大的输出值\n",
    "\n",
    "\n",
    "# 4.实现复数卷积神经网络 主要应对训练数据中存在相位噪声的情况\n",
    "\n",
    "\n",
    "\n",
    "# 5.参考vgg和resnet的实现方法\n",
    "\n",
    "\n",
    "\n",
    "# 5.滚降系数调制"
   ]
  }
 ],
 "metadata": {
  "kernelspec": {
   "display_name": "Python 3",
   "language": "python",
   "name": "python3"
  },
  "language_info": {
   "codemirror_mode": {
    "name": "ipython",
    "version": 3
   },
   "file_extension": ".py",
   "mimetype": "text/x-python",
   "name": "python",
   "nbconvert_exporter": "python",
   "pygments_lexer": "ipython3",
   "version": "3.6.3"
  }
 },
 "nbformat": 4,
 "nbformat_minor": 2
}
