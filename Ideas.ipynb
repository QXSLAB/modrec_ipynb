{
 "cells": [
  {
   "cell_type": "markdown",
   "metadata": {},
   "source": [
    "是否收集更多的数据\n",
    "增加或者减少模型容量\n",
    "添加或者删除正则化功能\n",
    "改进模型的优化\n",
    "改进模型的近似推断\n",
    "调整模型的软件实现\n",
    "\n",
    "\n",
    "更多的网络层\n",
    "更多的隐藏单元\n",
    "权重衰减\n",
    "预处理 减去均值 除以标准差\n",
    "\n",
    "学习率可能是最重要的超参数。如果你只有时间调整一个超参数，那就调整学习率\n",
    "Dropout 比率\n",
    "只要训练误差低，随时都可以通过收集更多的训练数据来减小泛华误差\n",
    "\n",
    "在对数尺度上进行网格搜索\n",
    "基于上一次的搜索结果，进行下一次的搜索\n",
    "\n",
    "\n",
    "# 1.校准skorch版本和pytorch版本conv1d的性能\n",
    "\n",
    "# 2.使用randomsearch搜索最优的learn rate和dropout rate\n",
    "\n",
    "# 3.实现更大的卷积核\n",
    "主要应对训练数据中加性噪声过大的情况 对于同一种调制格式，星座点的分布是固定的，信号在不同星座点之间跃迁，因而具有不同的时间轨迹，所以不同调制格式的信号波形是可分的 当存在噪声的情况下，时间轨迹会在纯净信号的基础上上下抖动。在局部来看，信号可能被完全打乱了，但是从长期来看，信号依然会在纯净信号模式上形成较大的输出值\n",
    "\n",
    "# 4.实现复数卷积神经网络 主要应对训练数据中存在相位噪声的情况\n",
    "\n",
    "# 5.参考vgg和resnet的实现方法\n",
    "\n",
    "# 5.滚降系数调制"
   ]
  }
 ],
 "metadata": {
  "kernelspec": {
   "display_name": "Python 3",
   "language": "python",
   "name": "python3"
  },
  "language_info": {
   "codemirror_mode": {
    "name": "ipython",
    "version": 3
   },
   "file_extension": ".py",
   "mimetype": "text/x-python",
   "name": "python",
   "nbconvert_exporter": "python",
   "pygments_lexer": "ipython3",
   "version": "3.6.3"
  }
 },
 "nbformat": 4,
 "nbformat_minor": 2
}
