{
 "cells": [
  {
   "cell_type": "markdown",
   "metadata": {},
   "source": [
    "是否收集更多的数据\n",
    "增加或者减少模型容量\n",
    "添加或者删除正则化功能\n",
    "改进模型的优化\n",
    "改进模型的近似推断\n",
    "调整模型的软件实现\n",
    "\n",
    "\n",
    "更多的网络层\n",
    "更多的隐藏单元\n",
    "权重衰减\n",
    "预处理 减去均值 除以标准差\n",
    "\n",
    "学习率可能是最重要的超参数。如果你只有时间调整一个超参数，那就调整学习率\n",
    "Dropout 比率\n",
    "只要训练误差低，随时都可以通过收集更多的训练数据来减小泛华误差\n",
    "\n",
    "在对数尺度上进行网格搜索\n",
    "基于上一次的搜索结果，进行下一次的搜索"
   ]
  }
 ],
 "metadata": {
  "kernelspec": {
   "display_name": "Python 3",
   "language": "python",
   "name": "python3"
  },
  "language_info": {
   "codemirror_mode": {
    "name": "ipython",
    "version": 3
   },
   "file_extension": ".py",
   "mimetype": "text/x-python",
   "name": "python",
   "nbconvert_exporter": "python",
   "pygments_lexer": "ipython3",
   "version": "3.6.3"
  }
 },
 "nbformat": 4,
 "nbformat_minor": 2
}
