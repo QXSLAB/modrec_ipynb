{
 "cells": [
  {
   "cell_type": "markdown",
   "metadata": {},
   "source": [
    "GridSearch (choose parameter to try, lr, dropout)\n",
    "early stopping\n",
    "\n",
    "Deactivating callbacks can be especially useful when you do a parameter search (say with sklearn GridSearchCV). If, for instance, you use a callback for learning rate scheduling (e.g. via LRScheduler) and want to test its usefulness, you can compare the performance once with and once without the callback.\n",
    "\n",
    "Implement confusion matrix and progress bar\n",
    "\n",
    "key_ignore=confusion_matrix put in realization\n",
    "\n",
    "implement early stopping\n",
    "\n",
    "implement model save\n",
    "\n",
    "implement gridSearch\n",
    "\n",
    "implement space_cnn\n",
    "\n",
    "implement long core for cnn\n",
    "\n",
    "output labels\n"
   ]
  },
  {
   "cell_type": "code",
   "execution_count": 1,
   "metadata": {
    "collapsed": true
   },
   "outputs": [],
   "source": [
    "import os\n",
    "import numpy as np\n",
    "import scipy.io"
   ]
  },
  {
   "cell_type": "code",
   "execution_count": 2,
   "metadata": {
    "collapsed": true
   },
   "outputs": [],
   "source": [
    "mods = ['BPSK', 'DQPSK', 'GFSK', 'GMSK', 'OQPSK',\n",
    "        'PAM4', 'PAM8', 'PSK8', 'QAM16', 'QAM64', 'QPSK']\n",
    "class_num = len(mods)"
   ]
  },
  {
   "cell_type": "code",
   "execution_count": 3,
   "metadata": {
    "collapsed": true
   },
   "outputs": [],
   "source": [
    "def import_from_mat(mods, fpath, size):\n",
    "\n",
    "    # import data of mat format\n",
    "    data = scipy.io.loadmat(fpath)\n",
    "    features = []\n",
    "    labels = []\n",
    "    for mod in mods:\n",
    "        real = np.array(data[mod].real[:size])\n",
    "        imag = np.array(data[mod].imag[:size])\n",
    "        signal = np.concatenate([real, imag], axis=1)\n",
    "        features.append(signal)\n",
    "        labels.append(mods.index(mod) * np.ones([size, 1]))\n",
    "\n",
    "    features = np.concatenate(features, axis=0)\n",
    "    labels = np.concatenate(labels, axis=0)\n",
    "    \n",
    "    return features, labels"
   ]
  },
  {
   "cell_type": "code",
   "execution_count": 4,
   "metadata": {
    "collapsed": true
   },
   "outputs": [],
   "source": [
    "features, labels = import_from_mat(mods,\n",
    "                                   \"D:/Archive/0006/\"\n",
    "                                   \"batch100000_symbols128_sps8_baud1_snr5.dat\",\n",
    "                                   100000\n",
    "                                  )"
   ]
  },
  {
   "cell_type": "code",
   "execution_count": 15,
   "metadata": {
    "collapsed": true
   },
   "outputs": [],
   "source": [
    "features = features.astype(np.float32)\n",
    "labels = labels.astype(np.int64)"
   ]
  },
  {
   "cell_type": "code",
   "execution_count": 16,
   "metadata": {
    "collapsed": true,
    "scrolled": true
   },
   "outputs": [],
   "source": [
    "X = features\n",
    "y = labels.reshape(-1)"
   ]
  },
  {
   "cell_type": "code",
   "execution_count": 17,
   "metadata": {
    "collapsed": true
   },
   "outputs": [],
   "source": [
    "import torch\n",
    "import torch.nn as nn\n",
    "import torch.nn.functional as F"
   ]
  },
  {
   "cell_type": "code",
   "execution_count": 18,
   "metadata": {
    "collapsed": true
   },
   "outputs": [],
   "source": [
    "class Discriminator(nn.Module):\n",
    "    \"\"\"Define the model\"\"\"\n",
    "\n",
    "    def __init__(self):\n",
    "        super(Discriminator, self).__init__()\n",
    "        self.conv1 = nn.Sequential(\n",
    "            nn.Conv1d(2, 256, 3, padding=1),  # batch, 256, 1024\n",
    "            nn.BatchNorm1d(256),\n",
    "            nn.ReLU(),\n",
    "            # nn.Dropout2d()\n",
    "        )\n",
    "        self.conv2 = nn.Sequential(\n",
    "            nn.Conv1d(256, 80, 3, padding=1),  # batch, 80, 1024\n",
    "            nn.BatchNorm1d(80),\n",
    "            nn.ReLU(),\n",
    "            # nn.Dropout2d()\n",
    "        )\n",
    "        self.fc1 = nn.Sequential(\n",
    "            nn.Linear(80 * 1024, 256),\n",
    "            nn.BatchNorm1d(256),\n",
    "            nn.ReLU(),\n",
    "            nn.Dropout(p=0.6)\n",
    "        )\n",
    "        self.fc2 = nn.Sequential(\n",
    "            nn.Linear(256, class_num),\n",
    "            nn.ReLU()\n",
    "        )\n",
    "        \n",
    "    def forward(self, x, **kwargs):\n",
    "        x = x.reshape((x.size(0), 2, -1))\n",
    "        x = self.conv1(x)\n",
    "        x = self.conv2(x)\n",
    "        x = x.view(x.size(0), -1)\n",
    "        x = self.fc1(x)\n",
    "        x = self.fc2(x)\n",
    "        x = F.softmax(x, dim=1)\n",
    "        return x"
   ]
  },
  {
   "cell_type": "code",
   "execution_count": 19,
   "metadata": {
    "collapsed": true
   },
   "outputs": [],
   "source": [
    "from skorch import NeuralNetClassifier\n",
    "from skorch.callbacks import EpochScoring, PrintLog, ProgressBar\n",
    "from sklearn.metrics import confusion_matrix\n",
    "from skorch.utils import data_from_dataset\n",
    "import sys"
   ]
  },
  {
   "cell_type": "code",
   "execution_count": 20,
   "metadata": {
    "collapsed": true
   },
   "outputs": [],
   "source": [
    "class Score_ConfusionMatrix(EpochScoring):\n",
    "    def on_epoch_end(self, net, dataset_train, dataset_valid, **kwargs):\n",
    "        \n",
    "        EpochScoring.on_epoch_end(self, net, dataset_train, dataset_valid)\n",
    "        \n",
    "        X_test, y_test = data_from_dataset(dataset_valid)\n",
    "        y_pred = net.predict(X_test)\n",
    "        cm = confusion_matrix(y_test, y_pred)\n",
    "        history = net.history\n",
    "        history.record(\"confusion_matrix\", cm)"
   ]
  },
  {
   "cell_type": "code",
   "execution_count": 21,
   "metadata": {
    "collapsed": true
   },
   "outputs": [],
   "source": [
    "class Print_Score_CM(PrintLog):\n",
    "    \n",
    "    def on_epoch_end(self, net, **kwargs):\n",
    "        PrintLog.on_epoch_end(self, net)\n",
    "        history = net.history\n",
    "        print(history[-1, \"confusion_matrix\"])\n",
    "        sys.stdout.flush()"
   ]
  },
  {
   "cell_type": "code",
   "execution_count": 22,
   "metadata": {
    "scrolled": false
   },
   "outputs": [
    {
     "data": {
      "text/plain": [
       "<class 'skorch.classifier.NeuralNetClassifier'>[uninitialized](\n",
       "  module=<class '__main__.Discriminator'>,\n",
       ")"
      ]
     },
     "execution_count": 22,
     "metadata": {},
     "output_type": "execute_result"
    }
   ],
   "source": [
    "net = NeuralNetClassifier(\n",
    "    Discriminator,\n",
    "    max_epochs=20,\n",
    "    lr=0.01,\n",
    "    device='cuda',\n",
    "    iterator_train__shuffle=True,\n",
    "    iterator_valid__shuffle=False\n",
    ")\n",
    "\n",
    "score = Score_ConfusionMatrix(scoring=\"accuracy\", lower_is_better=False)\n",
    "pt = Print_Score_CM(keys_ignored=\"confusion_matrix\")\n",
    "net.set_params(callbacks__valid_acc=score)\n",
    "net.set_params(callbacks__print_log=pt)"
   ]
  },
  {
   "cell_type": "code",
   "execution_count": 23,
   "metadata": {
    "scrolled": false
   },
   "outputs": [
    {
     "name": "stdout",
     "output_type": "stream",
     "text": [
      "  epoch    accuracy    train_loss    valid_loss       dur\n",
      "-------  ----------  ------------  ------------  --------\n",
      "      1      0.8927        0.3259        0.2037  336.4606\n",
      "[[20000     0     0     0     0     0     0     0     0     0     0]\n",
      " [    0 15545     0     0    12     0     0   113     0     0  4330]\n",
      " [    0     0 20000     0     0     0     0     0     0     0     0]\n",
      " [    0     0     0 20000     0     0     0     0     0     0     0]\n",
      " [    0     1     0     0 19838     0     0     0     0     0   161]\n",
      " [    0     0     0     0     0 20000     0     0     0     0     0]\n",
      " [    0     0     0     0     0     0 20000     0     0     0     0]\n",
      " [    0  1095     0     0    22     0     0  1110     0     0 17773]\n",
      " [    0     0     0     0     0     0     0     0 20000     0     0]\n",
      " [    0     0     0     0     0     0     0     0     0 20000     0]\n",
      " [    0    71     0     0    33     0     0     0     0     0 19896]]\n"
     ]
    },
    {
     "data": {
      "text/plain": [
       "<class 'skorch.classifier.NeuralNetClassifier'>[initialized](\n",
       "  module_=Discriminator(\n",
       "    (conv1): Sequential(\n",
       "      (0): Conv1d(2, 256, kernel_size=(3,), stride=(1,), padding=(1,))\n",
       "      (1): BatchNorm1d(256, eps=1e-05, momentum=0.1, affine=True, track_running_stats=True)\n",
       "      (2): ReLU()\n",
       "    )\n",
       "    (conv2): Sequential(\n",
       "      (0): Conv1d(256, 80, kernel_size=(3,), stride=(1,), padding=(1,))\n",
       "      (1): BatchNorm1d(80, eps=1e-05, momentum=0.1, affine=True, track_running_stats=True)\n",
       "      (2): ReLU()\n",
       "    )\n",
       "    (fc1): Sequential(\n",
       "      (0): Linear(in_features=81920, out_features=256, bias=True)\n",
       "      (1): BatchNorm1d(256, eps=1e-05, momentum=0.1, affine=True, track_running_stats=True)\n",
       "      (2): ReLU()\n",
       "      (3): Dropout(p=0.6)\n",
       "    )\n",
       "    (fc2): Sequential(\n",
       "      (0): Linear(in_features=256, out_features=11, bias=True)\n",
       "      (1): ReLU()\n",
       "    )\n",
       "  ),\n",
       ")"
      ]
     },
     "execution_count": 23,
     "metadata": {},
     "output_type": "execute_result"
    }
   ],
   "source": [
    "net.fit(X,y)"
   ]
  }
 ],
 "metadata": {
  "kernelspec": {
   "display_name": "Python 3",
   "language": "python",
   "name": "python3"
  },
  "language_info": {
   "codemirror_mode": {
    "name": "ipython",
    "version": 3
   },
   "file_extension": ".py",
   "mimetype": "text/x-python",
   "name": "python",
   "nbconvert_exporter": "python",
   "pygments_lexer": "ipython3",
   "version": "3.6.3"
  }
 },
 "nbformat": 4,
 "nbformat_minor": 2
}
